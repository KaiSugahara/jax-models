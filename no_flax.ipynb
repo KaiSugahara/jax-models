{
 "cells": [
  {
   "cell_type": "code",
   "execution_count": null,
   "id": "323be8a1-be05-4d72-956e-0d0e9f001896",
   "metadata": {},
   "outputs": [],
   "source": [
    "import matplotlib.pyplot as plt"
   ]
  },
  {
   "cell_type": "code",
   "execution_count": null,
   "id": "eebdef00-3805-40b3-bd81-ac8e735c9d3f",
   "metadata": {},
   "outputs": [],
   "source": [
    "import jax\n",
    "import jax.numpy as jnp\n",
    "from jax import nn\n",
    "from jax.nn.initializers import glorot_normal, normal"
   ]
  },
  {
   "cell_type": "code",
   "execution_count": null,
   "id": "492708b6-1836-4c96-a9a3-5dfa58420235",
   "metadata": {},
   "outputs": [],
   "source": [
    "\"\"\"\n",
    "    データセットの読み込み\n",
    "\"\"\"\n",
    "\n",
    "from sklearn.datasets import load_iris\n",
    "from sklearn.model_selection import train_test_split\n",
    "iris_dataset = load_iris()\n",
    "X_train, X_test, y_train, y_test = train_test_split(iris_dataset['data'], iris_dataset['target'], test_size=0.25,  random_state=0)\n",
    "X_train, X_test, y_train, y_test = jax.device_put(X_train), jax.device_put(X_test), jax.device_put(y_train), jax.device_put(y_test)\n",
    "y_train = jnp.eye(3)[y_train]"
   ]
  },
  {
   "cell_type": "code",
   "execution_count": null,
   "id": "d103478d-1dbd-4c0f-b509-dd1ac7be3b8d",
   "metadata": {},
   "outputs": [],
   "source": [
    "# パラメータの初期化\n",
    "rng = jax.random.PRNGKey(0)\n",
    "rng1, rng2 = jax.random.split(rng)\n",
    "rng1w, rng1b = jax.random.split(rng1)\n",
    "rng2w, rng2b = jax.random.split(rng2)\n",
    "\n",
    "params = {\n",
    "    \"linear1\": {\n",
    "        \"W\": glorot_normal()(rng1w, (4, 100)),\n",
    "        \"b\": normal()(rng1b, (100,))\n",
    "    },\n",
    "    \"linear2\": {\n",
    "        \"W\": glorot_normal()(rng2w, (100, 3)),\n",
    "        \"b\": normal()(rng2b, (3,))\n",
    "    }\n",
    "}"
   ]
  },
  {
   "cell_type": "code",
   "execution_count": null,
   "id": "16eae367-7fb5-411b-a82e-08e88487c370",
   "metadata": {},
   "outputs": [],
   "source": [
    "# Forward\n",
    "\n",
    "@jax.jit\n",
    "def Linear(params, x):\n",
    "    return jnp.dot(x, params[\"W\"]) + params[\"b\"]\n",
    "\n",
    "\n",
    "@jax.jit\n",
    "def MLP(params, x):\n",
    "    y1 = Linear(params[\"linear1\"], x)\n",
    "    z1 = nn.relu(y1)\n",
    "    y2 = Linear(params[\"linear2\"], z1)\n",
    "    z2 = nn.softmax(y2)\n",
    "    return z2"
   ]
  },
  {
   "cell_type": "code",
   "execution_count": null,
   "id": "585e76a1-cd81-4ba9-be9c-bedb65f51243",
   "metadata": {},
   "outputs": [],
   "source": [
    "# 損失関数\n",
    "@jax.jit\n",
    "def categorical_cross_entropy_loss(true_onehot, predict):\n",
    "    return jnp.mean(-jnp.sum(true_onehot * jnp.log(predict), axis=1))"
   ]
  },
  {
   "cell_type": "code",
   "execution_count": null,
   "id": "6726b059-a150-4d4f-b919-6fa54d2f6e03",
   "metadata": {},
   "outputs": [],
   "source": [
    "@jax.jit\n",
    "def SGD(params, grad, lr = 0.1):\n",
    "    params[\"linear1\"][\"W\"] -= lr * grad[\"linear1\"][\"W\"]\n",
    "    params[\"linear2\"][\"W\"] -= lr * grad[\"linear2\"][\"W\"]\n",
    "    params[\"linear1\"][\"b\"] -= lr * grad[\"linear1\"][\"b\"]\n",
    "    params[\"linear2\"][\"b\"] -= lr * grad[\"linear2\"][\"b\"]\n",
    "    return params"
   ]
  },
  {
   "cell_type": "code",
   "execution_count": null,
   "id": "61c0be3a-d8f6-4c1b-b80c-150aa955c4e1",
   "metadata": {},
   "outputs": [],
   "source": [
    "@jax.jit\n",
    "def train_batch(params, batch_X, batch_y):\n",
    "    \n",
    "    def loss_fn(params_, batch_X_):\n",
    "        logits = MLP(params_, batch_X_)\n",
    "        return categorical_cross_entropy_loss(batch_y, logits)\n",
    "    \n",
    "    grad = jax.grad(loss_fn)(params, batch_X)\n",
    "    \n",
    "    return SGD(params, grad)"
   ]
  },
  {
   "cell_type": "code",
   "execution_count": null,
   "id": "bc12541b-f05b-4d6d-9e59-6dddf7d41718",
   "metadata": {},
   "outputs": [],
   "source": [
    "batch_size = 50\n",
    "\n",
    "# 訓練データのインデックスをシャッフル\n",
    "index = jax.random.permutation(rng, X_train.shape[0])\n",
    "# バッチ数\n",
    "batch_length = jnp.ceil(X_train.shape[0] / batch_size)\n",
    "\n",
    "def train_for_each_batch(batch_idx, params):\n",
    "    target_train_indices = jax.lax.dynamic_slice(index, [batch_idx*batch_size], [batch_size])\n",
    "    params = train_batch(params, X_train[target_train_indices], y_train[target_train_indices])\n",
    "    return params\n",
    "\n",
    "params = jax.lax.fori_loop(0, int(batch_length), train_for_each_batch, params)"
   ]
  }
 ],
 "metadata": {
  "kernelspec": {
   "display_name": "Python 3 (ipykernel)",
   "language": "python",
   "name": "python3"
  },
  "language_info": {
   "codemirror_mode": {
    "name": "ipython",
    "version": 3
   },
   "file_extension": ".py",
   "mimetype": "text/x-python",
   "name": "python",
   "nbconvert_exporter": "python",
   "pygments_lexer": "ipython3",
   "version": "3.8.10"
  }
 },
 "nbformat": 4,
 "nbformat_minor": 5
}
