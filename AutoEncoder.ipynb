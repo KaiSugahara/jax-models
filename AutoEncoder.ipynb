{
 "cells": [
  {
   "cell_type": "code",
   "execution_count": 1,
   "id": "eebdef00-3805-40b3-bd81-ac8e735c9d3f",
   "metadata": {},
   "outputs": [],
   "source": [
    "########################################\n",
    "# ライブラリ\n",
    "########################################\n",
    "\n",
    "import jax\n",
    "import jax.numpy as jnp\n",
    "\n",
    "from flax import linen as nn\n",
    "from flax.training import train_state\n",
    "import optax\n",
    "\n",
    "import pandas as pd\n",
    "from tqdm import trange as tqdm_range\n",
    "import matplotlib.pyplot as plt\n",
    "from sklearn.datasets import fetch_openml\n",
    "from sklearn.model_selection import train_test_split"
   ]
  },
  {
   "cell_type": "code",
   "execution_count": 2,
   "id": "41c47f91-c254-442c-9e46-09bf37467a8a",
   "metadata": {},
   "outputs": [],
   "source": [
    "########################################\n",
    "# 関数定義: ベクトルを画像で可視化\n",
    "########################################\n",
    "\n",
    "def vector_to_image(v):\n",
    "    fig = plt.figure(figsize=(2, 2))\n",
    "    plt.imshow(v.reshape(28, 28))\n",
    "    plt.axis(\"off\")\n",
    "    plt.show()\n",
    "    plt.close()"
   ]
  },
  {
   "cell_type": "code",
   "execution_count": 3,
   "id": "16eae367-7fb5-411b-a82e-08e88487c370",
   "metadata": {},
   "outputs": [],
   "source": [
    "########################################\n",
    "# モデルの定義\n",
    "########################################\n",
    "\n",
    "class Encoder(nn.Module):\n",
    "    @nn.compact\n",
    "    def __call__(self, x):\n",
    "        x = nn.Dense(features=256)(x)\n",
    "        x = nn.relu(x)\n",
    "        x = nn.Dense(features=64)(x)\n",
    "        x = nn.relu(x)\n",
    "        x = nn.Dense(features=32)(x)\n",
    "        x = nn.relu(x)\n",
    "        return x\n",
    "\n",
    "class Decoder(nn.Module):\n",
    "    @nn.compact\n",
    "    def __call__(self, x):\n",
    "        x = nn.Dense(features=64)(x)\n",
    "        x = nn.relu(x)\n",
    "        x = nn.Dense(features=256)(x)\n",
    "        x = nn.relu(x)\n",
    "        x = nn.Dense(features=784)(x)\n",
    "        x = nn.sigmoid(x)\n",
    "        return x\n",
    "    \n",
    "class AutoEncoder(nn.Module):\n",
    "    \n",
    "    def setup(self):\n",
    "        self.Encoder = Encoder()\n",
    "        self.Decoder = Decoder()\n",
    "    \n",
    "    def __call__(self, x):\n",
    "        return self.Decoder(self.Encoder(x))\n",
    "    \n",
    "    def Encode(self, x):\n",
    "        return self.Encoder(x)\n",
    "    \n",
    "    def Decode(self, x):\n",
    "        return self.Decoder(x)"
   ]
  },
  {
   "cell_type": "code",
   "execution_count": 4,
   "id": "895d0973-c093-4c41-9e56-293fdcd3e52f",
   "metadata": {},
   "outputs": [],
   "source": [
    "########################################\n",
    "# 損失関数\n",
    "########################################\n",
    "\n",
    "@jax.jit\n",
    "def loss_function(params, X):\n",
    "    # 予測値計算\n",
    "    predict = AE.apply({'params': params}, X)\n",
    "    # 損失を計算\n",
    "    loss = jnp.mean( (predict - X)**2 )\n",
    "    return loss"
   ]
  },
  {
   "cell_type": "code",
   "execution_count": 5,
   "id": "128eb24c-ea76-4ed8-b852-e19172a858de",
   "metadata": {},
   "outputs": [],
   "source": [
    "########################################\n",
    "# ミニバッチ学習\n",
    "########################################\n",
    "\n",
    "@jax.jit\n",
    "def train_batch(batch_idx, state):\n",
    "    \n",
    "    # ミニバッチを抽出\n",
    "    target_indices = jax.lax.dynamic_slice_in_dim(train_indices, (batch_idx*batch_length), batch_length)\n",
    "    X = X_train[target_indices]\n",
    "    \n",
    "    # 損失と勾配を計算\n",
    "    loss, grads = jax.value_and_grad(loss_function)(state.params, X)\n",
    "    \n",
    "    # 更新\n",
    "    state = state.apply_gradients(grads=grads)\n",
    "    return state"
   ]
  },
  {
   "cell_type": "code",
   "execution_count": 6,
   "id": "2e00845c-7c6c-4acb-be87-41a4c688b522",
   "metadata": {},
   "outputs": [
    {
     "data": {
      "image/png": "[encoded data removed]",
      "text/plain": [
       "<Figure size 144x144 with 1 Axes>"
      ]
     },
     "metadata": {
      "needs_background": "light"
     },
     "output_type": "display_data"
    }
   ],
   "source": [
    "########################################\n",
    "# データセットの読み込み\n",
    "########################################\n",
    "\n",
    "mnist = fetch_openml('mnist_784')\n",
    "X = mnist[\"data\"].values / 255\n",
    "X_train, X_test = train_test_split(X, test_size=0.25, random_state=0)\n",
    "X_train, X_test = jax.device_put(X_train), jax.device_put(X_test)\n",
    "vector_to_image(X_train[0])"
   ]
  },
  {
   "cell_type": "code",
   "execution_count": 7,
   "id": "23bef4ea-5d60-4bbd-964f-13e279cc5636",
   "metadata": {
    "scrolled": true,
    "tags": []
   },
   "outputs": [
    {
     "name": "stdout",
     "output_type": "stream",
     "text": [
      "訓練誤差: 0.032 汎化誤差: 0.032 【 Epoch: 0 / 50 】\n",
      "訓練誤差: 0.023 汎化誤差: 0.023 【 Epoch: 1 / 50 】\n",
      "訓練誤差: 0.020 汎化誤差: 0.020 【 Epoch: 2 / 50 】\n",
      "訓練誤差: 0.018 汎化誤差: 0.019 【 Epoch: 3 / 50 】\n",
      "訓練誤差: 0.017 汎化誤差: 0.017 【 Epoch: 4 / 50 】\n",
      "訓練誤差: 0.016 汎化誤差: 0.016 【 Epoch: 5 / 50 】\n",
      "訓練誤差: 0.015 汎化誤差: 0.015 【 Epoch: 6 / 50 】\n",
      "訓練誤差: 0.014 汎化誤差: 0.014 【 Epoch: 7 / 50 】\n",
      "訓練誤差: 0.013 汎化誤差: 0.013 【 Epoch: 8 / 50 】\n",
      "訓練誤差: 0.013 汎化誤差: 0.013 【 Epoch: 9 / 50 】\n",
      "訓練誤差: 0.012 汎化誤差: 0.013 【 Epoch: 10 / 50 】\n",
      "訓練誤差: 0.012 汎化誤差: 0.012 【 Epoch: 11 / 50 】\n",
      "訓練誤差: 0.011 汎化誤差: 0.012 【 Epoch: 12 / 50 】\n",
      "訓練誤差: 0.011 汎化誤差: 0.011 【 Epoch: 13 / 50 】\n",
      "訓練誤差: 0.011 汎化誤差: 0.011 【 Epoch: 14 / 50 】\n",
      "訓練誤差: 0.011 汎化誤差: 0.011 【 Epoch: 15 / 50 】\n",
      "訓練誤差: 0.010 汎化誤差: 0.011 【 Epoch: 16 / 50 】\n",
      "訓練誤差: 0.010 汎化誤差: 0.011 【 Epoch: 17 / 50 】\n",
      "訓練誤差: 0.010 汎化誤差: 0.010 【 Epoch: 18 / 50 】\n",
      "訓練誤差: 0.010 汎化誤差: 0.010 【 Epoch: 19 / 50 】\n",
      "訓練誤差: 0.010 汎化誤差: 0.010 【 Epoch: 20 / 50 】\n",
      "訓練誤差: 0.010 汎化誤差: 0.010 【 Epoch: 21 / 50 】\n",
      "訓練誤差: 0.009 汎化誤差: 0.010 【 Epoch: 22 / 50 】\n",
      "訓練誤差: 0.009 汎化誤差: 0.010 【 Epoch: 23 / 50 】\n",
      "訓練誤差: 0.009 汎化誤差: 0.010 【 Epoch: 24 / 50 】\n",
      "訓練誤差: 0.009 汎化誤差: 0.010 【 Epoch: 25 / 50 】\n",
      "訓練誤差: 0.009 汎化誤差: 0.009 【 Epoch: 26 / 50 】\n",
      "訓練誤差: 0.009 汎化誤差: 0.009 【 Epoch: 27 / 50 】\n",
      "訓練誤差: 0.009 汎化誤差: 0.009 【 Epoch: 28 / 50 】\n",
      "訓練誤差: 0.009 汎化誤差: 0.009 【 Epoch: 29 / 50 】\n",
      "訓練誤差: 0.009 汎化誤差: 0.009 【 Epoch: 30 / 50 】\n",
      "訓練誤差: 0.009 汎化誤差: 0.009 【 Epoch: 31 / 50 】\n",
      "訓練誤差: 0.009 汎化誤差: 0.009 【 Epoch: 32 / 50 】\n",
      "訓練誤差: 0.009 汎化誤差: 0.009 【 Epoch: 33 / 50 】\n",
      "訓練誤差: 0.009 汎化誤差: 0.009 【 Epoch: 34 / 50 】\n",
      "訓練誤差: 0.009 汎化誤差: 0.009 【 Epoch: 35 / 50 】\n",
      "訓練誤差: 0.009 汎化誤差: 0.009 【 Epoch: 36 / 50 】\n",
      "訓練誤差: 0.009 汎化誤差: 0.009 【 Epoch: 37 / 50 】\n",
      "訓練誤差: 0.008 汎化誤差: 0.009 【 Epoch: 38 / 50 】\n",
      "訓練誤差: 0.008 汎化誤差: 0.009 【 Epoch: 39 / 50 】\n",
      "訓練誤差: 0.008 汎化誤差: 0.009 【 Epoch: 40 / 50 】\n",
      "訓練誤差: 0.008 汎化誤差: 0.009 【 Epoch: 41 / 50 】\n",
      "訓練誤差: 0.008 汎化誤差: 0.009 【 Epoch: 42 / 50 】\n",
      "訓練誤差: 0.008 汎化誤差: 0.009 【 Epoch: 43 / 50 】\n",
      "訓練誤差: 0.008 汎化誤差: 0.009 【 Epoch: 44 / 50 】\n",
      "訓練誤差: 0.008 汎化誤差: 0.009 【 Epoch: 45 / 50 】\n",
      "訓練誤差: 0.008 汎化誤差: 0.009 【 Epoch: 46 / 50 】\n",
      "訓練誤差: 0.008 汎化誤差: 0.009 【 Epoch: 47 / 50 】\n",
      "訓練誤差: 0.008 汎化誤差: 0.008 【 Epoch: 48 / 50 】\n",
      "訓練誤差: 0.008 汎化誤差: 0.008 【 Epoch: 49 / 50 】\n"
     ]
    }
   ],
   "source": [
    "########################################\n",
    "# モデルの作成 & 学習\n",
    "########################################\n",
    "\n",
    "# モデルの作成\n",
    "AE = AutoEncoder()\n",
    "params = AE.init(jax.random.PRNGKey(0), jnp.ones((1, 784)))[\"params\"]\n",
    "\n",
    "# SGDを定義\n",
    "learning_rate = 0.001\n",
    "tx = optax.adam(learning_rate)\n",
    "\n",
    "# パラメータの管理\n",
    "state = train_state.TrainState.create(apply_fn=AE.apply, params=params, tx=tx)\n",
    "\n",
    "# エポック数\n",
    "epoch_nums = 50\n",
    "# バッチサイズ\n",
    "batch_size = 256\n",
    "\n",
    "# バッチ数\n",
    "batch_length = X_train.shape[0] // batch_size\n",
    "\n",
    "# nums_epoch回 学習する\n",
    "for epoch_id in range(epoch_nums):\n",
    "    \n",
    "    # 訓練データのインデックスをシャッフル\n",
    "    train_indices = jax.random.permutation(jax.random.PRNGKey(epoch_id+1), X_train.shape[0])\n",
    "    # ミニバッチ学習で更新\n",
    "    state = jax.lax.fori_loop(0, batch_length, train_batch, state)\n",
    "    \n",
    "    # 誤差の確認\n",
    "    print(\n",
    "        \"訓練誤差:\",\n",
    "        '{:.3f}'.format(loss_function(state.params, X_train)),\n",
    "        \"汎化誤差:\",\n",
    "        '{:.3f}'.format(loss_function(state.params, X_test)),\n",
    "        f\"【 Epoch: {epoch_id} / {epoch_nums} 】\"\n",
    "    )"
   ]
  },
  {
   "cell_type": "code",
   "execution_count": 8,
   "id": "c4b48716-9795-4ea9-a757-d98a1cf37a7f",
   "metadata": {},
   "outputs": [
    {
     "data": {
      "image/png": "[encoded data removed]",
      "text/plain": [
       "<Figure size 144x144 with 1 Axes>"
      ]
     },
     "metadata": {
      "needs_background": "light"
     },
     "output_type": "display_data"
    },
    {
     "data": {
      "image/png": "[encoded data removed]",
      "text/plain": [
       "<Figure size 144x144 with 1 Axes>"
      ]
     },
     "metadata": {
      "needs_background": "light"
     },
     "output_type": "display_data"
    },
    {
     "data": {
      "image/png": "[encoded data removed]",
      "text/plain": [
       "<Figure size 144x144 with 1 Axes>"
      ]
     },
     "metadata": {
      "needs_background": "light"
     },
     "output_type": "display_data"
    },
    {
     "data": {
      "image/png": "[encoded data removed]",
      "text/plain": [
       "<Figure size 144x144 with 1 Axes>"
      ]
     },
     "metadata": {
      "needs_background": "light"
     },
     "output_type": "display_data"
    },
    {
     "data": {
      "image/png": "[encoded data removed]",
      "text/plain": [
       "<Figure size 144x144 with 1 Axes>"
      ]
     },
     "metadata": {
      "needs_background": "light"
     },
     "output_type": "display_data"
    },
    {
     "data": {
      "image/png": "[encoded data removed]",
      "text/plain": [
       "<Figure size 144x144 with 1 Axes>"
      ]
     },
     "metadata": {
      "needs_background": "light"
     },
     "output_type": "display_data"
    },
    {
     "data": {
      "image/png": "[encoded data removed]",
      "text/plain": [
       "<Figure size 144x144 with 1 Axes>"
      ]
     },
     "metadata": {
      "needs_background": "light"
     },
     "output_type": "display_data"
    },
    {
     "data": {
      "image/png": "[encoded data removed]",
      "text/plain": [
       "<Figure size 144x144 with 1 Axes>"
      ]
     },
     "metadata": {
      "needs_background": "light"
     },
     "output_type": "display_data"
    },
    {
     "data": {
      "image/png": "[encoded data removed]",
      "text/plain": [
       "<Figure size 144x144 with 1 Axes>"
      ]
     },
     "metadata": {
      "needs_background": "light"
     },
     "output_type": "display_data"
    },
    {
     "data": {
      "image/png": "[encoded data removed]",
      "text/plain": [
       "<Figure size 144x144 with 1 Axes>"
      ]
     },
     "metadata": {
      "needs_background": "light"
     },
     "output_type": "display_data"
    },
    {
     "data": {
      "image/png": "[encoded data removed]",
      "text/plain": [
       "<Figure size 144x144 with 1 Axes>"
      ]
     },
     "metadata": {
      "needs_background": "light"
     },
     "output_type": "display_data"
    },
    {
     "data": {
      "image/png": "[encoded data removed]",
      "text/plain": [
       "<Figure size 144x144 with 1 Axes>"
      ]
     },
     "metadata": {
      "needs_background": "light"
     },
     "output_type": "display_data"
    },
    {
     "data": {
      "image/png": "[encoded data removed]",
      "text/plain": [
       "<Figure size 144x144 with 1 Axes>"
      ]
     },
     "metadata": {
      "needs_background": "light"
     },
     "output_type": "display_data"
    },
    {
     "data": {
      "image/png": "[encoded data removed]",
      "text/plain": [
       "<Figure size 144x144 with 1 Axes>"
      ]
     },
     "metadata": {
      "needs_background": "light"
     },
     "output_type": "display_data"
    },
    {
     "data": {
      "image/png": "[encoded data removed]",
      "text/plain": [
       "<Figure size 144x144 with 1 Axes>"
      ]
     },
     "metadata": {
      "needs_background": "light"
     },
     "output_type": "display_data"
    },
    {
     "data": {
      "image/png": "[encoded data removed]",
      "text/plain": [
       "<Figure size 144x144 with 1 Axes>"
      ]
     },
     "metadata": {
      "needs_background": "light"
     },
     "output_type": "display_data"
    },
    {
     "data": {
      "image/png": "[encoded data removed]",
      "text/plain": [
       "<Figure size 144x144 with 1 Axes>"
      ]
     },
     "metadata": {
      "needs_background": "light"
     },
     "output_type": "display_data"
    },
    {
     "data": {
      "image/png": "[encoded data removed]",
      "text/plain": [
       "<Figure size 144x144 with 1 Axes>"
      ]
     },
     "metadata": {
      "needs_background": "light"
     },
     "output_type": "display_data"
    },
    {
     "data": {
      "image/png": "[encoded data removed]",
      "text/plain": [
       "<Figure size 144x144 with 1 Axes>"
      ]
     },
     "metadata": {
      "needs_background": "light"
     },
     "output_type": "display_data"
    },
    {
     "data": {
      "image/png": "[encoded data removed]",
      "text/plain": [
       "<Figure size 144x144 with 1 Axes>"
      ]
     },
     "metadata": {
      "needs_background": "light"
     },
     "output_type": "display_data"
    }
   ],
   "source": [
    "########################################\n",
    "# テストデータで確認\n",
    "########################################\n",
    "\n",
    "PREDICT = AE.apply({\"params\": state.params}, X_test)\n",
    "for i in range(10):\n",
    "    vector_to_image(X_test[i]), vector_to_image(PREDICT[i])"
   ]
  }
 ],
 "metadata": {
  "kernelspec": {
   "display_name": "Python 3 (ipykernel)",
   "language": "python",
   "name": "python3"
  },
  "language_info": {
   "codemirror_mode": {
    "name": "ipython",
    "version": 3
   },
   "file_extension": ".py",
   "mimetype": "text/x-python",
   "name": "python",
   "nbconvert_exporter": "python",
   "pygments_lexer": "ipython3",
   "version": "3.8.10"
  }
 },
 "nbformat": 4,
 "nbformat_minor": 5
}
