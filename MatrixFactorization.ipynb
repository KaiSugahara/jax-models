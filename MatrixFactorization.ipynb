{
 "cells": [
  {
   "cell_type": "code",
   "execution_count": null,
   "id": "eebdef00-3805-40b3-bd81-ac8e735c9d3f",
   "metadata": {},
   "outputs": [],
   "source": [
    "########################################\n",
    "# ライブラリ\n",
    "########################################\n",
    "\n",
    "import jax\n",
    "import jax.numpy as jnp\n",
    "\n",
    "from flax import linen as nn\n",
    "from flax.training import train_state\n",
    "import optax\n",
    "\n",
    "import pandas as pd\n",
    "from tqdm import trange as tqdm_range\n",
    "import matplotlib.pyplot as plt\n",
    "from sklearn.datasets import fetch_openml\n",
    "from sklearn.model_selection import train_test_split"
   ]
  },
  {
   "cell_type": "code",
   "execution_count": null,
   "id": "7e72a413-237e-4897-98ae-dbd1e777f735",
   "metadata": {},
   "outputs": [],
   "source": [
    "########################################\n",
    "# モデルの定義\n",
    "########################################\n",
    "\n",
    "class MatrixFactorization(nn.Module):\n",
    "    \n",
    "    k: int = 20\n",
    "    \n",
    "    @nn.compact\n",
    "    def __call__(self, user_onehot, item_onehot):\n",
    "        user_vector = nn.Dense(features=self.k, use_bias=False)(user_onehot)\n",
    "        item_vector = nn.Dense(features=self.k, use_bias=False)(item_onehot)\n",
    "        return jnp.sum(user_vector * item_vector, axis=1)"
   ]
  },
  {
   "cell_type": "code",
   "execution_count": null,
   "id": "895d0973-c093-4c41-9e56-293fdcd3e52f",
   "metadata": {},
   "outputs": [],
   "source": [
    "########################################\n",
    "# 損失関数\n",
    "########################################\n",
    "\n",
    "@jax.jit\n",
    "def loss_function(params, X_USER, X_ITEM, y):\n",
    "    # 予測値計算\n",
    "    predict = model.apply({'params': params}, X_USER, X_ITEM)\n",
    "    # 損失を計算\n",
    "    loss = jnp.mean( (predict - y)**2 )\n",
    "    return loss"
   ]
  },
  {
   "cell_type": "code",
   "execution_count": null,
   "id": "31faefb3-2b09-4489-aa79-be1b80621021",
   "metadata": {},
   "outputs": [],
   "source": [
    "########################################\n",
    "# データセットの読み込み\n",
    "########################################\n",
    "\n",
    "ML100K = pd.read_table(\"/home/sugahara/data/ml-100k/row/u.data\", header=None)\n",
    "\n",
    "X_USER = pd.get_dummies(ML100K[0]).values\n",
    "X_ITEM = pd.get_dummies(ML100K[1]).values\n",
    "y = ML100K[2].values\n",
    "\n",
    "X_USER, X_ITEM, y = jax.device_put(X_USER), jax.device_put(X_ITEM), jax.device_put(y)\n",
    "\n",
    "user_size = X_USER.shape[1]\n",
    "item_size = X_ITEM.shape[1]"
   ]
  },
  {
   "cell_type": "code",
   "execution_count": null,
   "id": "5ba848eb-2ea9-4ec5-90bf-77e1e81d6fbf",
   "metadata": {},
   "outputs": [],
   "source": [
    "########################################\n",
    "# モデル\n",
    "########################################\n",
    "\n",
    "# モデルの作成\n",
    "model = MatrixFactorization(k=20)\n",
    "params = model.init( jax.random.PRNGKey(0), jnp.ones((1, user_size)), jnp.ones((1, item_size)) )[\"params\"]\n",
    "\n",
    "# SGDを定義\n",
    "learning_rate = 0.001\n",
    "tx = optax.adam(learning_rate)\n",
    "\n",
    "# パラメータの管理\n",
    "state = train_state.TrainState.create(apply_fn=model.apply, params=params, tx=tx)"
   ]
  },
  {
   "cell_type": "code",
   "execution_count": null,
   "id": "aa86764a-3d4a-41be-858a-b0ebe7e1afa4",
   "metadata": {
    "scrolled": true,
    "tags": []
   },
   "outputs": [],
   "source": [
    "########################################\n",
    "# 学習\n",
    "########################################\n",
    "\n",
    "epoch_nums = 512\n",
    "\n",
    "for epoch_id in range(epoch_nums):\n",
    "    \n",
    "    # 損失と勾配を計算\n",
    "    loss, grads = jax.value_and_grad(loss_function)(state.params, X_USER, X_ITEM, y)\n",
    "\n",
    "    # 更新\n",
    "    state = state.apply_gradients(grads=grads)\n",
    "\n",
    "    # 誤差の確認\n",
    "    print(\n",
    "        \"訓練誤差:\",\n",
    "        '{:.3f}'.format(loss_function(state.params, X_USER, X_ITEM, y)),\n",
    "        f\"【 Epoch: {epoch_id} / {epoch_nums} 】\"\n",
    "    )"
   ]
  }
 ],
 "metadata": {
  "kernelspec": {
   "display_name": "Python 3 (ipykernel)",
   "language": "python",
   "name": "python3"
  },
  "language_info": {
   "codemirror_mode": {
    "name": "ipython",
    "version": 3
   },
   "file_extension": ".py",
   "mimetype": "text/x-python",
   "name": "python",
   "nbconvert_exporter": "python",
   "pygments_lexer": "ipython3",
   "version": "3.8.10"
  }
 },
 "nbformat": 4,
 "nbformat_minor": 5
}
