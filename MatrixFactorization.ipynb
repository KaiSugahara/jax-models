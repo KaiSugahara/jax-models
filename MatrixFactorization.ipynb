{
 "cells": [
  {
   "cell_type": "code",
   "execution_count": null,
   "id": "de20f845-82ce-49fb-b0da-4a2e5d117964",
   "metadata": {},
   "outputs": [],
   "source": [
    "%load_ext autoreload"
   ]
  },
  {
   "cell_type": "code",
   "execution_count": null,
   "id": "8c383ce4-4bb1-46ab-84ca-9fc85379c3cc",
   "metadata": {},
   "outputs": [],
   "source": [
    "import pandas as pd\n",
    "from sklearn.datasets import fetch_california_housing\n",
    "from sklearn.model_selection import train_test_split\n",
    "\n",
    "import jax\n",
    "import jax.numpy as jnp\n",
    "from flax import linen as nn\n",
    "from typing import Sequence"
   ]
  },
  {
   "cell_type": "markdown",
   "id": "4677b77d-0df1-4dc8-a95b-384d0e70b776",
   "metadata": {},
   "source": [
    "## データセット ml-100k"
   ]
  },
  {
   "cell_type": "code",
   "execution_count": null,
   "id": "1ca4c138-7649-41c0-a0bd-f5ff229a68e0",
   "metadata": {},
   "outputs": [],
   "source": [
    "# READ\n",
    "ML100K = pd.read_table(\"~/data/ml-100k/raw/u.data\", usecols=[0, 1, 2], header=None)\n",
    "ML100K.columns = [\"user_id\", \"item_id\", \"rating\"]\n",
    "\n",
    "# ユーザ数とアイテムを計算\n",
    "user_num = ML100K[\"user_id\"].unique().shape[0]\n",
    "item_num = ML100K[\"item_id\"].unique().shape[0]\n",
    "\n",
    "# 入力データ と 正解データ を用意\n",
    "X, Y = (ML100K[[\"user_id\", \"item_id\"]].to_numpy() - 1), ML100K[[\"rating\"]].to_numpy()\n",
    "\n",
    "# SPLIT\n",
    "X_TRAIN, X_TEST, Y_TRAIN, Y_TEST = train_test_split(X, Y, test_size=0.3, random_state=0)\n",
    "\n",
    "# DEVICE_PUT\n",
    "X_TRAIN, X_TEST, Y_TRAIN, Y_TEST = jax.device_put((\n",
    "    X_TRAIN,\n",
    "    X_TEST,\n",
    "    Y_TRAIN,\n",
    "    Y_TEST,\n",
    "))\n",
    "\n",
    "# SIZE\n",
    "print(\"TRAIN:\", X_TRAIN.shape, Y_TRAIN.shape)\n",
    "print(\"TEST:\", X_TEST.shape, Y_TEST.shape)"
   ]
  },
  {
   "cell_type": "markdown",
   "id": "32509308-88b0-4911-a931-b2d2de3900f8",
   "metadata": {},
   "source": [
    "## モデル"
   ]
  },
  {
   "cell_type": "code",
   "execution_count": null,
   "id": "7e72a413-237e-4897-98ae-dbd1e777f735",
   "metadata": {},
   "outputs": [],
   "source": [
    "class MatrixFactorization(nn.Module):\n",
    "    \n",
    "    user_num: int\n",
    "    item_num: int\n",
    "    embed_dims: int = 100\n",
    "    \n",
    "    def setup(self):\n",
    "        self.userEmbed = nn.Embed(num_embeddings=self.user_num, features=self.embed_dims)\n",
    "        self.itemEmbed = nn.Embed(num_embeddings=self.item_num, features=self.embed_dims)\n",
    "    \n",
    "    @nn.compact\n",
    "    def __call__(self, X):\n",
    "        return (self.userEmbed(X[:, 0]) * self.itemEmbed(X[:, 1])).sum(axis=1).reshape(-1, 1)"
   ]
  },
  {
   "cell_type": "markdown",
   "id": "67d6d54b-1698-48f6-b164-34a2600885ce",
   "metadata": {},
   "source": [
    "## 学習"
   ]
  },
  {
   "cell_type": "code",
   "execution_count": null,
   "id": "6e212c0d-09ce-4a6a-b9e1-4b3a5f2addf5",
   "metadata": {},
   "outputs": [],
   "source": [
    "%autoreload\n",
    "from trainer.dataLoader import dataLoader # データローダ\n",
    "from trainer.regressionTrainer import regressionTrainer # 学習器"
   ]
  },
  {
   "cell_type": "code",
   "execution_count": null,
   "id": "e777fb98-f2c8-4dd6-9547-36235fd7d526",
   "metadata": {},
   "outputs": [],
   "source": [
    "model = MatrixFactorization(user_num=user_num, item_num=item_num, embed_dims=10)\n",
    "\n",
    "trainer = regressionTrainer(model=model, dataLoader=dataLoader, epoch_nums=128, learning_rate=0.001)\n",
    "state = trainer.fit(X_TRAIN, Y_TRAIN, X_TEST=X_TEST, Y_TEST=Y_TEST)\n",
    "trainer.plot_loss_history()"
   ]
  },
  {
   "cell_type": "code",
   "execution_count": null,
   "id": "f0c7c583-1b20-44d4-8947-8e0a236138b1",
   "metadata": {},
   "outputs": [],
   "source": [
    "model = MatrixFactorization(user_num=user_num, item_num=item_num, embed_dims=100)\n",
    "\n",
    "trainer = regressionTrainer(model=model, dataLoader=dataLoader, epoch_nums=128, learning_rate=0.001)\n",
    "state = trainer.fit(X_TRAIN, Y_TRAIN, X_TEST=X_TEST, Y_TEST=Y_TEST)\n",
    "trainer.plot_loss_history()"
   ]
  }
 ],
 "metadata": {
  "kernelspec": {
   "display_name": "Python 3 (ipykernel)",
   "language": "python",
   "name": "python3"
  },
  "language_info": {
   "codemirror_mode": {
    "name": "ipython",
    "version": 3
   },
   "file_extension": ".py",
   "mimetype": "text/x-python",
   "name": "python",
   "nbconvert_exporter": "python",
   "pygments_lexer": "ipython3",
   "version": "3.8.10"
  }
 },
 "nbformat": 4,
 "nbformat_minor": 5
}
