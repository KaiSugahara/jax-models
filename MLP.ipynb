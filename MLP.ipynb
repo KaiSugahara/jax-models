{
 "cells": [
  {
   "cell_type": "code",
   "execution_count": null,
   "id": "13e5d46c-7b02-4bc8-b024-761c5b48c136",
   "metadata": {},
   "outputs": [],
   "source": [
    "%load_ext autoreload"
   ]
  },
  {
   "cell_type": "code",
   "execution_count": null,
   "id": "4e1ab4fb-e668-432c-8f60-6b0b0c3624bc",
   "metadata": {},
   "outputs": [],
   "source": [
    "from sklearn.datasets import fetch_california_housing\n",
    "from sklearn.model_selection import train_test_split\n",
    "\n",
    "import jax\n",
    "import jax.numpy as jnp\n",
    "from flax import linen as nn\n",
    "from typing import Sequence"
   ]
  },
  {
   "cell_type": "markdown",
   "id": "189962bf-3922-42f4-86f7-c630a1f0eeca",
   "metadata": {},
   "source": [
    "## データセット california_housing"
   ]
  },
  {
   "cell_type": "code",
   "execution_count": null,
   "id": "080d089a-5ae7-4822-8021-ab20417d3372",
   "metadata": {},
   "outputs": [],
   "source": [
    "# READ\n",
    "X, Y, *others = fetch_california_housing(as_frame=True).values()\n",
    "feature_list = list(X.columns)\n",
    "\n",
    "# SPLIT\n",
    "X_TRAIN, X_TEST, Y_TRAIN, Y_TEST = train_test_split(X, Y, test_size=0.3, random_state=0)\n",
    "\n",
    "# DEVICE_PUT\n",
    "X_TRAIN, X_TEST, Y_TRAIN, Y_TEST = jax.device_put((\n",
    "    X_TRAIN.to_numpy(),\n",
    "    X_TEST.to_numpy(),\n",
    "    Y_TRAIN.to_numpy(),\n",
    "    Y_TEST.to_numpy(),\n",
    "))\n",
    "\n",
    "# SIZE\n",
    "print(\"TRAIN:\", X_TRAIN.shape, Y_TRAIN.shape)\n",
    "print(\"TEST:\", X_TEST.shape, Y_TEST.shape)"
   ]
  },
  {
   "cell_type": "markdown",
   "id": "7ac188cb-44b6-4b33-acc7-06509580fa09",
   "metadata": {},
   "source": [
    "## モデル"
   ]
  },
  {
   "cell_type": "code",
   "execution_count": null,
   "id": "e062dac8-fb6b-4281-baef-4b2dcb2a89b3",
   "metadata": {},
   "outputs": [],
   "source": [
    "class MLP(nn.Module):\n",
    "    \n",
    "    layer_sizes: Sequence[int]\n",
    "    \n",
    "    @nn.compact\n",
    "    def __call__(self, X):\n",
    "\n",
    "        for features in self.layer_sizes:\n",
    "            X = nn.Dense(features=features)(X)\n",
    "            X = nn.leaky_relu(X)\n",
    "\n",
    "        return X.reshape(-1)"
   ]
  },
  {
   "cell_type": "markdown",
   "id": "aac37638-ff6c-48d9-90ad-a00688ca616c",
   "metadata": {},
   "source": [
    "## 学習"
   ]
  },
  {
   "cell_type": "code",
   "execution_count": null,
   "id": "8d95fb6b-4eb5-48b4-9955-972ee5d00fcf",
   "metadata": {},
   "outputs": [],
   "source": [
    "%autoreload\n",
    "from trainer.dataLoader import dataLoader # データローダ\n",
    "from trainer.regressionTrainer import regressionTrainer # 学習器"
   ]
  },
  {
   "cell_type": "code",
   "execution_count": null,
   "id": "76c4d3f0-3716-48c6-8d1f-ca5c27e94b4f",
   "metadata": {
    "tags": []
   },
   "outputs": [],
   "source": [
    "model = MLP(layer_sizes=[8, 4, 2, 1])\n",
    "\n",
    "trainer = regressionTrainer(model=model, dataLoader=dataLoader, epoch_nums=128, learning_rate=0.001)\n",
    "state = trainer.fit(X_TRAIN, Y_TRAIN, X_TEST=X_TEST, Y_TEST=Y_TEST)\n",
    "trainer.plot_loss_history()"
   ]
  }
 ],
 "metadata": {
  "kernelspec": {
   "display_name": "Python 3 (ipykernel)",
   "language": "python",
   "name": "python3"
  },
  "language_info": {
   "codemirror_mode": {
    "name": "ipython",
    "version": 3
   },
   "file_extension": ".py",
   "mimetype": "text/x-python",
   "name": "python",
   "nbconvert_exporter": "python",
   "pygments_lexer": "ipython3",
   "version": "3.8.10"
  }
 },
 "nbformat": 4,
 "nbformat_minor": 5
}
